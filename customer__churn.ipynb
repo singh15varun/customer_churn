{
  "nbformat": 4,
  "nbformat_minor": 0,
  "metadata": {
    "colab": {
      "provenance": []
    },
    "kernelspec": {
      "name": "python3",
      "display_name": "Python 3"
    },
    "language_info": {
      "name": "python"
    }
  },
  "cells": [
    {
      "cell_type": "code",
      "source": [
        "import pandas as pd\n",
        "from sklearn.preprocessing import StandardScaler, OneHotEncoder\n",
        "from sklearn.model_selection import train_test_split\n",
        "from sklearn.linear_model import RidgeClassifier\n",
        "from sklearn.ensemble import RandomForestClassifier\n",
        "from sklearn.metrics import classification_report, confusion_matrix"
      ],
      "metadata": {
        "id": "m7pGO8h9I43n"
      },
      "execution_count": 8,
      "outputs": []
    },
    {
      "cell_type": "code",
      "source": [
        "telecom_demographics = pd.read_csv('/content/telecom_demographics.csv')\n",
        "telecom_usage = pd.read_csv('/content/telecom_usage.csv')\n",
        "\n",
        "# Display the first few rows and info of the DataFrames\n",
        "print(\"Telecom Demographics Data:\")\n",
        "print(telecom_demographics.head())\n",
        "print(telecom_demographics.info())\n",
        "\n",
        "print(\"\\nTelecom Usage Data:\")\n",
        "print(telecom_usage.head())\n",
        "print(telecom_usage.info())"
      ],
      "metadata": {
        "colab": {
          "base_uri": "https://localhost:8080/"
        },
        "id": "rS0fyghBJUHx",
        "outputId": "63523380-aa5b-4716-c7d5-3586eb576337"
      },
      "execution_count": 9,
      "outputs": [
        {
          "output_type": "stream",
          "name": "stdout",
          "text": [
            "Telecom Demographics Data:\n",
            "   customer_id telecom_partner gender  age             state       city  \\\n",
            "0        15169          Airtel      F   26  Himachal Pradesh      Delhi   \n",
            "1       149207          Airtel      F   74       Uttarakhand  Hyderabad   \n",
            "2       148119          Airtel      F   54         Jharkhand    Chennai   \n",
            "3       187288    Reliance Jio      M   29             Bihar  Hyderabad   \n",
            "4        14016        Vodafone      M   45          Nagaland  Bangalore   \n",
            "\n",
            "   pincode registration_event  num_dependents  estimated_salary  \n",
            "0   667173         2020-03-16               4             85979  \n",
            "1   313997         2022-01-16               0             69445  \n",
            "2   549925         2022-01-11               2             75949  \n",
            "3   230636         2022-07-26               3             34272  \n",
            "4   188036         2020-03-11               4             34157  \n",
            "<class 'pandas.core.frame.DataFrame'>\n",
            "RangeIndex: 6500 entries, 0 to 6499\n",
            "Data columns (total 10 columns):\n",
            " #   Column              Non-Null Count  Dtype \n",
            "---  ------              --------------  ----- \n",
            " 0   customer_id         6500 non-null   int64 \n",
            " 1   telecom_partner     6500 non-null   object\n",
            " 2   gender              6500 non-null   object\n",
            " 3   age                 6500 non-null   int64 \n",
            " 4   state               6500 non-null   object\n",
            " 5   city                6500 non-null   object\n",
            " 6   pincode             6500 non-null   int64 \n",
            " 7   registration_event  6500 non-null   object\n",
            " 8   num_dependents      6500 non-null   int64 \n",
            " 9   estimated_salary    6500 non-null   int64 \n",
            "dtypes: int64(5), object(5)\n",
            "memory usage: 507.9+ KB\n",
            "None\n",
            "\n",
            "Telecom Usage Data:\n",
            "   customer_id  calls_made  sms_sent  data_used  churn\n",
            "0        15169          75        21       4532      1\n",
            "1       149207          35        38        723      1\n",
            "2       148119          70        47       4688      1\n",
            "3       187288          95        32      10241      1\n",
            "4        14016          66        23       5246      1\n",
            "<class 'pandas.core.frame.DataFrame'>\n",
            "RangeIndex: 6500 entries, 0 to 6499\n",
            "Data columns (total 5 columns):\n",
            " #   Column       Non-Null Count  Dtype\n",
            "---  ------       --------------  -----\n",
            " 0   customer_id  6500 non-null   int64\n",
            " 1   calls_made   6500 non-null   int64\n",
            " 2   sms_sent     6500 non-null   int64\n",
            " 3   data_used    6500 non-null   int64\n",
            " 4   churn        6500 non-null   int64\n",
            "dtypes: int64(5)\n",
            "memory usage: 254.0 KB\n",
            "None\n"
          ]
        }
      ]
    },
    {
      "cell_type": "code",
      "source": [
        "churn_df = pd.merge(telecom_demographics, telecom_usage, on='customer_id')\n",
        "\n",
        "# Display the first few rows of the merged DataFrame\n",
        "print(churn_df.head())"
      ],
      "metadata": {
        "colab": {
          "base_uri": "https://localhost:8080/"
        },
        "id": "rX0JUXKcJeIW",
        "outputId": "9ceee3b4-9d17-4ef7-d5e8-fe0755ad72b7"
      },
      "execution_count": 10,
      "outputs": [
        {
          "output_type": "stream",
          "name": "stdout",
          "text": [
            "   customer_id telecom_partner gender  age             state       city  \\\n",
            "0        15169          Airtel      F   26  Himachal Pradesh      Delhi   \n",
            "1       149207          Airtel      F   74       Uttarakhand  Hyderabad   \n",
            "2       148119          Airtel      F   54         Jharkhand    Chennai   \n",
            "3       187288    Reliance Jio      M   29             Bihar  Hyderabad   \n",
            "4        14016        Vodafone      M   45          Nagaland  Bangalore   \n",
            "\n",
            "   pincode registration_event  num_dependents  estimated_salary  calls_made  \\\n",
            "0   667173         2020-03-16               4             85979          75   \n",
            "1   313997         2022-01-16               0             69445          35   \n",
            "2   549925         2022-01-11               2             75949          70   \n",
            "3   230636         2022-07-26               3             34272          95   \n",
            "4   188036         2020-03-11               4             34157          66   \n",
            "\n",
            "   sms_sent  data_used  churn  \n",
            "0        21       4532      1  \n",
            "1        38        723      1  \n",
            "2        47       4688      1  \n",
            "3        32      10241      1  \n",
            "4        23       5246      1  \n"
          ]
        }
      ]
    },
    {
      "cell_type": "code",
      "source": [
        "churn_rate = churn_df['churn'].mean()\n",
        "print(f'Churn Rate: {churn_rate:.2f}')"
      ],
      "metadata": {
        "colab": {
          "base_uri": "https://localhost:8080/"
        },
        "id": "dTQyoaTAJjw1",
        "outputId": "de25dada-5863-461f-8cb7-6fbc74ab7775"
      },
      "execution_count": 11,
      "outputs": [
        {
          "output_type": "stream",
          "name": "stdout",
          "text": [
            "Churn Rate: 0.20\n"
          ]
        }
      ]
    },
    {
      "cell_type": "code",
      "source": [
        "from sklearn.preprocessing import OneHotEncoder\n",
        "\n",
        "# Identify categorical features\n",
        "categorical_features = ['telecom_partner', 'gender', 'state', 'city']\n",
        "\n",
        "# Convert 'registration_event' to datetime and then to numerical value (e.g., number of days since the earliest date)\n",
        "churn_df['registration_event'] = pd.to_datetime(churn_df['registration_event'])\n",
        "churn_df['registration_event'] = (churn_df['registration_event'] - churn_df['registration_event'].min()).dt.days\n",
        "\n",
        "# One-hot encode the categorical features\n",
        "one_hot_encoder = OneHotEncoder(sparse=False, drop='first')\n",
        "categorical_encoded = one_hot_encoder.fit_transform(churn_df[categorical_features])\n",
        "\n",
        "# Convert the encoded categorical features into a DataFrame\n",
        "categorical_encoded_df = pd.DataFrame(categorical_encoded, columns=one_hot_encoder.get_feature_names_out(categorical_features))\n",
        "\n",
        "# Drop the original categorical columns and concatenate the encoded columns\n",
        "churn_df = churn_df.drop(columns=categorical_features)\n",
        "churn_df = pd.concat([churn_df, categorical_encoded_df], axis=1)"
      ],
      "metadata": {
        "colab": {
          "base_uri": "https://localhost:8080/"
        },
        "id": "urVPJ3FCJqgm",
        "outputId": "1b874080-a5c2-42ee-cf9d-a1f2bac8816f"
      },
      "execution_count": 12,
      "outputs": [
        {
          "output_type": "stream",
          "name": "stderr",
          "text": [
            "/usr/local/lib/python3.10/dist-packages/sklearn/preprocessing/_encoders.py:975: FutureWarning: `sparse` was renamed to `sparse_output` in version 1.2 and will be removed in 1.4. `sparse_output` is ignored unless you leave `sparse` to its default value.\n",
            "  warnings.warn(\n"
          ]
        }
      ]
    },
    {
      "cell_type": "code",
      "source": [
        "features_to_scale = ['age', 'num_dependents', 'estimated_salary', 'calls_made', 'sms_sent', 'data_used']\n",
        "\n",
        "# Initialize the StandardScaler\n",
        "scaler = StandardScaler()\n",
        "\n",
        "# Scale the features\n",
        "scaled_features = scaler.fit_transform(churn_df[features_to_scale])\n",
        "\n",
        "# Convert the scaled features into a DataFrame\n",
        "scaled_features_df = pd.DataFrame(scaled_features, columns=features_to_scale)\n",
        "\n",
        "# Drop the original columns and concatenate the scaled columns\n",
        "churn_df = churn_df.drop(columns=features_to_scale)\n",
        "churn_df = pd.concat([churn_df, scaled_features_df], axis=1)"
      ],
      "metadata": {
        "id": "neIU3xPbJvBV"
      },
      "execution_count": 13,
      "outputs": []
    },
    {
      "cell_type": "code",
      "source": [
        "target = 'churn'\n",
        "\n",
        "# Define the feature set\n",
        "features = churn_df.drop(columns=[target])\n",
        "\n",
        "# Define the target variable\n",
        "target_variable = churn_df[target]"
      ],
      "metadata": {
        "id": "tdJK0wbtJwl1"
      },
      "execution_count": 14,
      "outputs": []
    },
    {
      "cell_type": "code",
      "source": [
        "X_train, X_test, y_train, y_test = train_test_split(features, target_variable, test_size=0.2, random_state=42)"
      ],
      "metadata": {
        "id": "NBvEdqrHJz3f"
      },
      "execution_count": 15,
      "outputs": []
    },
    {
      "cell_type": "code",
      "source": [
        "from sklearn.linear_model import LogisticRegression\n",
        "\n",
        "# Initialize the models\n",
        "logreg_model = LogisticRegression(random_state=42)\n",
        "rf_model = RandomForestClassifier(random_state=42)\n",
        "\n",
        "# Train the models\n",
        "logreg_model.fit(X_train, y_train)\n",
        "rf_model.fit(X_train, y_train)\n",
        "\n",
        "# Predict on the test data\n",
        "logreg_pred = logreg_model.predict(X_test)\n",
        "rf_pred = rf_model.predict(X_test)"
      ],
      "metadata": {
        "colab": {
          "base_uri": "https://localhost:8080/",
          "height": 132
        },
        "id": "I8qp0lACJ3hu",
        "outputId": "3283b333-e0f8-46aa-f7cf-9db458e496d7"
      },
      "execution_count": 16,
      "outputs": [
        {
          "output_type": "execute_result",
          "data": {
            "text/plain": [
              "LogisticRegression(random_state=42)"
            ],
            "text/html": [
              "<style>#sk-container-id-1 {color: black;}#sk-container-id-1 pre{padding: 0;}#sk-container-id-1 div.sk-toggleable {background-color: white;}#sk-container-id-1 label.sk-toggleable__label {cursor: pointer;display: block;width: 100%;margin-bottom: 0;padding: 0.3em;box-sizing: border-box;text-align: center;}#sk-container-id-1 label.sk-toggleable__label-arrow:before {content: \"▸\";float: left;margin-right: 0.25em;color: #696969;}#sk-container-id-1 label.sk-toggleable__label-arrow:hover:before {color: black;}#sk-container-id-1 div.sk-estimator:hover label.sk-toggleable__label-arrow:before {color: black;}#sk-container-id-1 div.sk-toggleable__content {max-height: 0;max-width: 0;overflow: hidden;text-align: left;background-color: #f0f8ff;}#sk-container-id-1 div.sk-toggleable__content pre {margin: 0.2em;color: black;border-radius: 0.25em;background-color: #f0f8ff;}#sk-container-id-1 input.sk-toggleable__control:checked~div.sk-toggleable__content {max-height: 200px;max-width: 100%;overflow: auto;}#sk-container-id-1 input.sk-toggleable__control:checked~label.sk-toggleable__label-arrow:before {content: \"▾\";}#sk-container-id-1 div.sk-estimator input.sk-toggleable__control:checked~label.sk-toggleable__label {background-color: #d4ebff;}#sk-container-id-1 div.sk-label input.sk-toggleable__control:checked~label.sk-toggleable__label {background-color: #d4ebff;}#sk-container-id-1 input.sk-hidden--visually {border: 0;clip: rect(1px 1px 1px 1px);clip: rect(1px, 1px, 1px, 1px);height: 1px;margin: -1px;overflow: hidden;padding: 0;position: absolute;width: 1px;}#sk-container-id-1 div.sk-estimator {font-family: monospace;background-color: #f0f8ff;border: 1px dotted black;border-radius: 0.25em;box-sizing: border-box;margin-bottom: 0.5em;}#sk-container-id-1 div.sk-estimator:hover {background-color: #d4ebff;}#sk-container-id-1 div.sk-parallel-item::after {content: \"\";width: 100%;border-bottom: 1px solid gray;flex-grow: 1;}#sk-container-id-1 div.sk-label:hover label.sk-toggleable__label {background-color: #d4ebff;}#sk-container-id-1 div.sk-serial::before {content: \"\";position: absolute;border-left: 1px solid gray;box-sizing: border-box;top: 0;bottom: 0;left: 50%;z-index: 0;}#sk-container-id-1 div.sk-serial {display: flex;flex-direction: column;align-items: center;background-color: white;padding-right: 0.2em;padding-left: 0.2em;position: relative;}#sk-container-id-1 div.sk-item {position: relative;z-index: 1;}#sk-container-id-1 div.sk-parallel {display: flex;align-items: stretch;justify-content: center;background-color: white;position: relative;}#sk-container-id-1 div.sk-item::before, #sk-container-id-1 div.sk-parallel-item::before {content: \"\";position: absolute;border-left: 1px solid gray;box-sizing: border-box;top: 0;bottom: 0;left: 50%;z-index: -1;}#sk-container-id-1 div.sk-parallel-item {display: flex;flex-direction: column;z-index: 1;position: relative;background-color: white;}#sk-container-id-1 div.sk-parallel-item:first-child::after {align-self: flex-end;width: 50%;}#sk-container-id-1 div.sk-parallel-item:last-child::after {align-self: flex-start;width: 50%;}#sk-container-id-1 div.sk-parallel-item:only-child::after {width: 0;}#sk-container-id-1 div.sk-dashed-wrapped {border: 1px dashed gray;margin: 0 0.4em 0.5em 0.4em;box-sizing: border-box;padding-bottom: 0.4em;background-color: white;}#sk-container-id-1 div.sk-label label {font-family: monospace;font-weight: bold;display: inline-block;line-height: 1.2em;}#sk-container-id-1 div.sk-label-container {text-align: center;}#sk-container-id-1 div.sk-container {/* jupyter's `normalize.less` sets `[hidden] { display: none; }` but bootstrap.min.css set `[hidden] { display: none !important; }` so we also need the `!important` here to be able to override the default hidden behavior on the sphinx rendered scikit-learn.org. See: https://github.com/scikit-learn/scikit-learn/issues/21755 */display: inline-block !important;position: relative;}#sk-container-id-1 div.sk-text-repr-fallback {display: none;}</style><div id=\"sk-container-id-1\" class=\"sk-top-container\"><div class=\"sk-text-repr-fallback\"><pre>LogisticRegression(random_state=42)</pre><b>In a Jupyter environment, please rerun this cell to show the HTML representation or trust the notebook. <br />On GitHub, the HTML representation is unable to render, please try loading this page with nbviewer.org.</b></div><div class=\"sk-container\" hidden><div class=\"sk-item\"><div class=\"sk-estimator sk-toggleable\"><input class=\"sk-toggleable__control sk-hidden--visually\" id=\"sk-estimator-id-1\" type=\"checkbox\" checked><label for=\"sk-estimator-id-1\" class=\"sk-toggleable__label sk-toggleable__label-arrow\">LogisticRegression</label><div class=\"sk-toggleable__content\"><pre>LogisticRegression(random_state=42)</pre></div></div></div></div></div>"
            ]
          },
          "metadata": {},
          "execution_count": 16
        },
        {
          "output_type": "execute_result",
          "data": {
            "text/plain": [
              "RandomForestClassifier(random_state=42)"
            ],
            "text/html": [
              "<style>#sk-container-id-2 {color: black;}#sk-container-id-2 pre{padding: 0;}#sk-container-id-2 div.sk-toggleable {background-color: white;}#sk-container-id-2 label.sk-toggleable__label {cursor: pointer;display: block;width: 100%;margin-bottom: 0;padding: 0.3em;box-sizing: border-box;text-align: center;}#sk-container-id-2 label.sk-toggleable__label-arrow:before {content: \"▸\";float: left;margin-right: 0.25em;color: #696969;}#sk-container-id-2 label.sk-toggleable__label-arrow:hover:before {color: black;}#sk-container-id-2 div.sk-estimator:hover label.sk-toggleable__label-arrow:before {color: black;}#sk-container-id-2 div.sk-toggleable__content {max-height: 0;max-width: 0;overflow: hidden;text-align: left;background-color: #f0f8ff;}#sk-container-id-2 div.sk-toggleable__content pre {margin: 0.2em;color: black;border-radius: 0.25em;background-color: #f0f8ff;}#sk-container-id-2 input.sk-toggleable__control:checked~div.sk-toggleable__content {max-height: 200px;max-width: 100%;overflow: auto;}#sk-container-id-2 input.sk-toggleable__control:checked~label.sk-toggleable__label-arrow:before {content: \"▾\";}#sk-container-id-2 div.sk-estimator input.sk-toggleable__control:checked~label.sk-toggleable__label {background-color: #d4ebff;}#sk-container-id-2 div.sk-label input.sk-toggleable__control:checked~label.sk-toggleable__label {background-color: #d4ebff;}#sk-container-id-2 input.sk-hidden--visually {border: 0;clip: rect(1px 1px 1px 1px);clip: rect(1px, 1px, 1px, 1px);height: 1px;margin: -1px;overflow: hidden;padding: 0;position: absolute;width: 1px;}#sk-container-id-2 div.sk-estimator {font-family: monospace;background-color: #f0f8ff;border: 1px dotted black;border-radius: 0.25em;box-sizing: border-box;margin-bottom: 0.5em;}#sk-container-id-2 div.sk-estimator:hover {background-color: #d4ebff;}#sk-container-id-2 div.sk-parallel-item::after {content: \"\";width: 100%;border-bottom: 1px solid gray;flex-grow: 1;}#sk-container-id-2 div.sk-label:hover label.sk-toggleable__label {background-color: #d4ebff;}#sk-container-id-2 div.sk-serial::before {content: \"\";position: absolute;border-left: 1px solid gray;box-sizing: border-box;top: 0;bottom: 0;left: 50%;z-index: 0;}#sk-container-id-2 div.sk-serial {display: flex;flex-direction: column;align-items: center;background-color: white;padding-right: 0.2em;padding-left: 0.2em;position: relative;}#sk-container-id-2 div.sk-item {position: relative;z-index: 1;}#sk-container-id-2 div.sk-parallel {display: flex;align-items: stretch;justify-content: center;background-color: white;position: relative;}#sk-container-id-2 div.sk-item::before, #sk-container-id-2 div.sk-parallel-item::before {content: \"\";position: absolute;border-left: 1px solid gray;box-sizing: border-box;top: 0;bottom: 0;left: 50%;z-index: -1;}#sk-container-id-2 div.sk-parallel-item {display: flex;flex-direction: column;z-index: 1;position: relative;background-color: white;}#sk-container-id-2 div.sk-parallel-item:first-child::after {align-self: flex-end;width: 50%;}#sk-container-id-2 div.sk-parallel-item:last-child::after {align-self: flex-start;width: 50%;}#sk-container-id-2 div.sk-parallel-item:only-child::after {width: 0;}#sk-container-id-2 div.sk-dashed-wrapped {border: 1px dashed gray;margin: 0 0.4em 0.5em 0.4em;box-sizing: border-box;padding-bottom: 0.4em;background-color: white;}#sk-container-id-2 div.sk-label label {font-family: monospace;font-weight: bold;display: inline-block;line-height: 1.2em;}#sk-container-id-2 div.sk-label-container {text-align: center;}#sk-container-id-2 div.sk-container {/* jupyter's `normalize.less` sets `[hidden] { display: none; }` but bootstrap.min.css set `[hidden] { display: none !important; }` so we also need the `!important` here to be able to override the default hidden behavior on the sphinx rendered scikit-learn.org. See: https://github.com/scikit-learn/scikit-learn/issues/21755 */display: inline-block !important;position: relative;}#sk-container-id-2 div.sk-text-repr-fallback {display: none;}</style><div id=\"sk-container-id-2\" class=\"sk-top-container\"><div class=\"sk-text-repr-fallback\"><pre>RandomForestClassifier(random_state=42)</pre><b>In a Jupyter environment, please rerun this cell to show the HTML representation or trust the notebook. <br />On GitHub, the HTML representation is unable to render, please try loading this page with nbviewer.org.</b></div><div class=\"sk-container\" hidden><div class=\"sk-item\"><div class=\"sk-estimator sk-toggleable\"><input class=\"sk-toggleable__control sk-hidden--visually\" id=\"sk-estimator-id-2\" type=\"checkbox\" checked><label for=\"sk-estimator-id-2\" class=\"sk-toggleable__label sk-toggleable__label-arrow\">RandomForestClassifier</label><div class=\"sk-toggleable__content\"><pre>RandomForestClassifier(random_state=42)</pre></div></div></div></div></div>"
            ]
          },
          "metadata": {},
          "execution_count": 16
        }
      ]
    },
    {
      "cell_type": "code",
      "source": [
        "from sklearn.metrics import accuracy_score\n",
        "\n",
        "# Calculate accuracy scores\n",
        "logreg_accuracy = accuracy_score(y_test, logreg_pred)\n",
        "rf_accuracy = accuracy_score(y_test, rf_pred)\n",
        "\n",
        "# Determine which model has higher accuracy\n",
        "higher_accuracy = \"LogisticRegression\" if logreg_accuracy > rf_accuracy else \"RandomForest\"\n",
        "\n",
        "# Print the accuracy scores and the model with higher accuracy\n",
        "print(f'Logistic Regression Accuracy: {logreg_accuracy:.2f}')\n",
        "print(f'Random Forest Accuracy: {rf_accuracy:.2f}')\n",
        "print(f'Higher Accuracy Model: {higher_accuracy}')\n",
        "\n",
        "# Print classification reports\n",
        "print(\"\\nLogistic Regression Classification Report:\")\n",
        "print(classification_report(y_test, logreg_pred))\n",
        "\n",
        "print(\"\\nRandom Forest Classification Report:\")\n",
        "print(classification_report(y_test, rf_pred))\n",
        "\n",
        "# Print confusion matrices\n",
        "print(\"\\nLogistic Regression Confusion Matrix:\")\n",
        "print(confusion_matrix(y_test, logreg_pred))\n",
        "\n",
        "print(\"\\nRandom Forest Confusion Matrix:\")\n",
        "print(confusion_matrix(y_test, rf_pred))"
      ],
      "metadata": {
        "colab": {
          "base_uri": "https://localhost:8080/"
        },
        "id": "zFqhhIPnJ7J2",
        "outputId": "623905c6-b2f7-467c-ca41-e6e3d3eeecf5"
      },
      "execution_count": 17,
      "outputs": [
        {
          "output_type": "stream",
          "name": "stdout",
          "text": [
            "Logistic Regression Accuracy: 0.79\n",
            "Random Forest Accuracy: 0.79\n",
            "Higher Accuracy Model: RandomForest\n",
            "\n",
            "Logistic Regression Classification Report:\n",
            "              precision    recall  f1-score   support\n",
            "\n",
            "           0       0.79      1.00      0.88      1027\n",
            "           1       0.00      0.00      0.00       273\n",
            "\n",
            "    accuracy                           0.79      1300\n",
            "   macro avg       0.40      0.50      0.44      1300\n",
            "weighted avg       0.62      0.79      0.70      1300\n",
            "\n",
            "\n",
            "Random Forest Classification Report:\n",
            "              precision    recall  f1-score   support\n",
            "\n",
            "           0       0.79      1.00      0.88      1027\n",
            "           1       0.00      0.00      0.00       273\n",
            "\n",
            "    accuracy                           0.79      1300\n",
            "   macro avg       0.40      0.50      0.44      1300\n",
            "weighted avg       0.62      0.79      0.70      1300\n",
            "\n",
            "\n",
            "Logistic Regression Confusion Matrix:\n",
            "[[1027    0]\n",
            " [ 273    0]]\n",
            "\n",
            "Random Forest Confusion Matrix:\n",
            "[[1027    0]\n",
            " [ 273    0]]\n"
          ]
        },
        {
          "output_type": "stream",
          "name": "stderr",
          "text": [
            "/usr/local/lib/python3.10/dist-packages/sklearn/metrics/_classification.py:1471: UndefinedMetricWarning: Precision and F-score are ill-defined and being set to 0.0 in labels with no predicted samples. Use `zero_division` parameter to control this behavior.\n",
            "  _warn_prf(average, modifier, msg_start, len(result))\n",
            "/usr/local/lib/python3.10/dist-packages/sklearn/metrics/_classification.py:1471: UndefinedMetricWarning: Precision and F-score are ill-defined and being set to 0.0 in labels with no predicted samples. Use `zero_division` parameter to control this behavior.\n",
            "  _warn_prf(average, modifier, msg_start, len(result))\n",
            "/usr/local/lib/python3.10/dist-packages/sklearn/metrics/_classification.py:1471: UndefinedMetricWarning: Precision and F-score are ill-defined and being set to 0.0 in labels with no predicted samples. Use `zero_division` parameter to control this behavior.\n",
            "  _warn_prf(average, modifier, msg_start, len(result))\n",
            "/usr/local/lib/python3.10/dist-packages/sklearn/metrics/_classification.py:1471: UndefinedMetricWarning: Precision and F-score are ill-defined and being set to 0.0 in labels with no predicted samples. Use `zero_division` parameter to control this behavior.\n",
            "  _warn_prf(average, modifier, msg_start, len(result))\n",
            "/usr/local/lib/python3.10/dist-packages/sklearn/metrics/_classification.py:1471: UndefinedMetricWarning: Precision and F-score are ill-defined and being set to 0.0 in labels with no predicted samples. Use `zero_division` parameter to control this behavior.\n",
            "  _warn_prf(average, modifier, msg_start, len(result))\n",
            "/usr/local/lib/python3.10/dist-packages/sklearn/metrics/_classification.py:1471: UndefinedMetricWarning: Precision and F-score are ill-defined and being set to 0.0 in labels with no predicted samples. Use `zero_division` parameter to control this behavior.\n",
            "  _warn_prf(average, modifier, msg_start, len(result))\n"
          ]
        }
      ]
    },
    {
      "cell_type": "code",
      "source": [],
      "metadata": {
        "id": "pz2KwOA_KDF-"
      },
      "execution_count": null,
      "outputs": []
    }
  ]
}